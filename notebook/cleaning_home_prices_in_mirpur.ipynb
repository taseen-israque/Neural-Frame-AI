{
 "cells": [
  {
   "cell_type": "code",
   "execution_count": 15,
   "id": "9538bc21-6341-4e36-b958-a92f505ee8fe",
   "metadata": {},
   "outputs": [],
   "source": [
    "import pandas as pd\n",
    "import numpy as np\n",
    "import seaborn as sns\n",
    "import matplotlib.pyplot as plt"
   ]
  },
  {
   "cell_type": "code",
   "execution_count": null,
   "id": "78fd8e38-5765-43be-a07a-a2a76329b5c1",
   "metadata": {},
   "outputs": [],
   "source": [
    "df = pd.read_csv(\"house_price_bd.csv\")"
   ]
  },
  {
   "cell_type": "markdown",
   "id": "b0d570a3-9077-4720-ab4b-d72c6652758c",
   "metadata": {},
   "source": [
    "removing duplicates"
   ]
  },
  {
   "cell_type": "code",
   "execution_count": 17,
   "id": "72234795-b393-4c2f-8db0-05b3b75c623f",
   "metadata": {},
   "outputs": [],
   "source": [
    "df.drop_duplicates(inplace = True)"
   ]
  },
  {
   "cell_type": "code",
   "execution_count": 18,
   "id": "031b85bd-94a1-42cd-886f-fe20d278b3cf",
   "metadata": {},
   "outputs": [
    {
     "data": {
      "text/plain": [
       "(2931, 9)"
      ]
     },
     "execution_count": 18,
     "metadata": {},
     "output_type": "execute_result"
    }
   ],
   "source": [
    "df.shape"
   ]
  },
  {
   "cell_type": "code",
   "execution_count": 19,
   "id": "c08f0890-a593-45c3-a6e0-9152686deee8",
   "metadata": {},
   "outputs": [
    {
     "name": "stdout",
     "output_type": "stream",
     "text": [
      "<class 'pandas.core.frame.DataFrame'>\n",
      "Index: 2931 entries, 0 to 3862\n",
      "Data columns (total 9 columns):\n",
      " #   Column            Non-Null Count  Dtype  \n",
      "---  ------            --------------  -----  \n",
      " 0   Title             2931 non-null   object \n",
      " 1   Bedrooms          2100 non-null   float64\n",
      " 2   Bathrooms         2100 non-null   float64\n",
      " 3   Floor_no          2356 non-null   object \n",
      " 4   Occupancy_status  2842 non-null   object \n",
      " 5   Floor_area        2842 non-null   float64\n",
      " 6   City              2931 non-null   object \n",
      " 7   Price_in_taka     2931 non-null   object \n",
      " 8   Location          2925 non-null   object \n",
      "dtypes: float64(3), object(6)\n",
      "memory usage: 229.0+ KB\n"
     ]
    }
   ],
   "source": [
    "df.info()"
   ]
  },
  {
   "cell_type": "markdown",
   "id": "c763bb6c-21e7-4e60-93c5-85b0861e1361",
   "metadata": {},
   "source": [
    "dropping rows with no locations"
   ]
  },
  {
   "cell_type": "code",
   "execution_count": 20,
   "id": "28dc5fe9-12d6-4b38-9287-266d574319b4",
   "metadata": {},
   "outputs": [],
   "source": [
    "df=df.dropna(subset=['Location'])"
   ]
  },
  {
   "cell_type": "code",
   "execution_count": 21,
   "id": "b4c516d4-b2da-4db3-9a6c-bdf5f9efeb6b",
   "metadata": {},
   "outputs": [
    {
     "data": {
      "text/plain": [
       "City\n",
       "chattogram          1162\n",
       "dhaka               1090\n",
       "narayanganj-city     367\n",
       "gazipur              169\n",
       "cumilla              137\n",
       "Name: count, dtype: int64"
      ]
     },
     "execution_count": 21,
     "metadata": {},
     "output_type": "execute_result"
    }
   ],
   "source": [
    "df['City'].value_counts()"
   ]
  },
  {
   "cell_type": "markdown",
   "id": "1264add7-89cb-4204-876f-638af96c40ef",
   "metadata": {},
   "source": [
    "keeping rows of 'dhaka' only "
   ]
  },
  {
   "cell_type": "code",
   "execution_count": 22,
   "id": "27fdb307-c636-4bb9-8660-fdd833cd9a6c",
   "metadata": {},
   "outputs": [],
   "source": [
    "df=df[df['City']=='dhaka']"
   ]
  },
  {
   "cell_type": "markdown",
   "id": "a5df6776-fcdf-4a5f-bebd-14d37206315c",
   "metadata": {},
   "source": [
    "seperating 'Area' & 'Section' from 'Location'"
   ]
  },
  {
   "cell_type": "code",
   "execution_count": 23,
   "id": "45c3f11a-38ce-48af-b9a1-f6eb5feae748",
   "metadata": {},
   "outputs": [],
   "source": [
    "split_df = df['Location'].str.split(',', expand=True)\n",
    "df['Area'] = split_df[1].where(df['Location'].str.count(',')==1).str.strip().str.lower()\n",
    "df['Section'] = split_df[0].where(df['Location'].str.count(',')==1).str.strip().str.lower().str.replace('sector', 'section')"
   ]
  },
  {
   "cell_type": "code",
   "execution_count": 24,
   "id": "f9cd3e37-a40d-481c-9734-ef3c86b4ee9c",
   "metadata": {},
   "outputs": [
    {
     "data": {
      "text/html": [
       "<div>\n",
       "<style scoped>\n",
       "    .dataframe tbody tr th:only-of-type {\n",
       "        vertical-align: middle;\n",
       "    }\n",
       "\n",
       "    .dataframe tbody tr th {\n",
       "        vertical-align: top;\n",
       "    }\n",
       "\n",
       "    .dataframe thead th {\n",
       "        text-align: right;\n",
       "    }\n",
       "</style>\n",
       "<table border=\"1\" class=\"dataframe\">\n",
       "  <thead>\n",
       "    <tr style=\"text-align: right;\">\n",
       "      <th></th>\n",
       "      <th>Title</th>\n",
       "      <th>Bedrooms</th>\n",
       "      <th>Bathrooms</th>\n",
       "      <th>Floor_no</th>\n",
       "      <th>Occupancy_status</th>\n",
       "      <th>Floor_area</th>\n",
       "      <th>City</th>\n",
       "      <th>Price_in_taka</th>\n",
       "      <th>Location</th>\n",
       "      <th>Area</th>\n",
       "      <th>Section</th>\n",
       "    </tr>\n",
       "  </thead>\n",
       "  <tbody>\n",
       "    <tr>\n",
       "      <th>0</th>\n",
       "      <td>We Are Offering You A Very Spacious 1960 Sq Ft...</td>\n",
       "      <td>3.0</td>\n",
       "      <td>4.0</td>\n",
       "      <td>3</td>\n",
       "      <td>vacant</td>\n",
       "      <td>1960.0</td>\n",
       "      <td>dhaka</td>\n",
       "      <td>৳39,000,000</td>\n",
       "      <td>Gulshan 1, Gulshan</td>\n",
       "      <td>gulshan</td>\n",
       "      <td>gulshan 1</td>\n",
       "    </tr>\n",
       "    <tr>\n",
       "      <th>1</th>\n",
       "      <td>Valuable 1705 Square Feet Apartment Is Ready T...</td>\n",
       "      <td>3.0</td>\n",
       "      <td>3.0</td>\n",
       "      <td>1</td>\n",
       "      <td>vacant</td>\n",
       "      <td>1705.0</td>\n",
       "      <td>dhaka</td>\n",
       "      <td>৳16,900,000</td>\n",
       "      <td>Lake Circus Road, Kalabagan</td>\n",
       "      <td>kalabagan</td>\n",
       "      <td>lake circus road</td>\n",
       "    </tr>\n",
       "    <tr>\n",
       "      <th>2</th>\n",
       "      <td>1370 square feet apartment is ready to sale in...</td>\n",
       "      <td>3.0</td>\n",
       "      <td>3.0</td>\n",
       "      <td>6</td>\n",
       "      <td>vacant</td>\n",
       "      <td>1370.0</td>\n",
       "      <td>dhaka</td>\n",
       "      <td>৳12,500,000</td>\n",
       "      <td>Shukrabad, Dhanmondi</td>\n",
       "      <td>dhanmondi</td>\n",
       "      <td>shukrabad</td>\n",
       "    </tr>\n",
       "    <tr>\n",
       "      <th>3</th>\n",
       "      <td>2125 Square Feet Apartment For Sale In Bashund...</td>\n",
       "      <td>3.0</td>\n",
       "      <td>3.0</td>\n",
       "      <td>4</td>\n",
       "      <td>vacant</td>\n",
       "      <td>2125.0</td>\n",
       "      <td>dhaka</td>\n",
       "      <td>৳20,000,000</td>\n",
       "      <td>Block L, Bashundhara R-A</td>\n",
       "      <td>bashundhara r-a</td>\n",
       "      <td>block l</td>\n",
       "    </tr>\n",
       "    <tr>\n",
       "      <th>4</th>\n",
       "      <td>Buy This 2687 Square Feet Flat In The Nice Are...</td>\n",
       "      <td>3.0</td>\n",
       "      <td>3.0</td>\n",
       "      <td>4</td>\n",
       "      <td>vacant</td>\n",
       "      <td>2687.0</td>\n",
       "      <td>dhaka</td>\n",
       "      <td>৳47,500,000</td>\n",
       "      <td>Road No 25, Banani</td>\n",
       "      <td>banani</td>\n",
       "      <td>road no 25</td>\n",
       "    </tr>\n",
       "  </tbody>\n",
       "</table>\n",
       "</div>"
      ],
      "text/plain": [
       "                                               Title  Bedrooms  Bathrooms  \\\n",
       "0  We Are Offering You A Very Spacious 1960 Sq Ft...       3.0        4.0   \n",
       "1  Valuable 1705 Square Feet Apartment Is Ready T...       3.0        3.0   \n",
       "2  1370 square feet apartment is ready to sale in...       3.0        3.0   \n",
       "3  2125 Square Feet Apartment For Sale In Bashund...       3.0        3.0   \n",
       "4  Buy This 2687 Square Feet Flat In The Nice Are...       3.0        3.0   \n",
       "\n",
       "  Floor_no Occupancy_status  Floor_area   City Price_in_taka  \\\n",
       "0        3           vacant      1960.0  dhaka   ৳39,000,000   \n",
       "1        1           vacant      1705.0  dhaka   ৳16,900,000   \n",
       "2        6           vacant      1370.0  dhaka   ৳12,500,000   \n",
       "3        4           vacant      2125.0  dhaka   ৳20,000,000   \n",
       "4        4           vacant      2687.0  dhaka   ৳47,500,000   \n",
       "\n",
       "                      Location             Area           Section  \n",
       "0           Gulshan 1, Gulshan          gulshan         gulshan 1  \n",
       "1  Lake Circus Road, Kalabagan        kalabagan  lake circus road  \n",
       "2         Shukrabad, Dhanmondi        dhanmondi         shukrabad  \n",
       "3     Block L, Bashundhara R-A  bashundhara r-a           block l  \n",
       "4           Road No 25, Banani           banani        road no 25  "
      ]
     },
     "execution_count": 24,
     "metadata": {},
     "output_type": "execute_result"
    }
   ],
   "source": [
    "df.head()"
   ]
  },
  {
   "cell_type": "markdown",
   "id": "35a872a6-c7b7-4750-b0e1-28bb42fe9b15",
   "metadata": {},
   "source": [
    "keeping only rows of 'mirpur' in area"
   ]
  },
  {
   "cell_type": "code",
   "execution_count": 28,
   "id": "88f7c13c-e0a8-4e9a-9ae4-19ebf3aa32da",
   "metadata": {},
   "outputs": [],
   "source": [
    "df=df[df['Area']=='mirpur']"
   ]
  },
  {
   "cell_type": "code",
   "execution_count": 27,
   "id": "89610ef1-04bd-40af-aa38-52848ecb2e68",
   "metadata": {},
   "outputs": [
    {
     "data": {
      "text/plain": [
       "Section\n",
       "section 10                  33\n",
       "section 12                  31\n",
       "section 1                   28\n",
       "ahmed nagar                 25\n",
       "pallabi                     24\n",
       "pirerbag                    24\n",
       "west shewrapara             23\n",
       "section 11                  22\n",
       "middle monipur              21\n",
       "section 6                   20\n",
       "east kazipara               17\n",
       "section 2                   16\n",
       "mirpur dohs                 15\n",
       "kallyanpur                  14\n",
       "rupnagar r/a                12\n",
       "darussalam                  10\n",
       "east monipur                 8\n",
       "paikpara                     8\n",
       "west monipur                 8\n",
       "middle paikpara              8\n",
       "dakkhin paikpara             6\n",
       "section 15                   6\n",
       "2nd colony                   5\n",
       "east shewrapara              5\n",
       "west kazipara                5\n",
       "1st colony                   4\n",
       "south monipur                4\n",
       "section 7                    4\n",
       "arambag residential area     2\n",
       "section 13                   1\n",
       "lalkuthi                     1\n",
       "kachukhet road               1\n",
       "Name: count, dtype: int64"
      ]
     },
     "execution_count": 27,
     "metadata": {},
     "output_type": "execute_result"
    }
   ],
   "source": [
    "df[df['Area']=='mirpur']['Section'].value_counts()"
   ]
  },
  {
   "cell_type": "markdown",
   "id": "98c71119-0696-4a53-a358-048f8fdc5224",
   "metadata": {},
   "source": [
    "handling missing values"
   ]
  },
  {
   "cell_type": "code",
   "execution_count": 29,
   "id": "f05afe47-1821-4d69-86da-16dcc484a4ed",
   "metadata": {},
   "outputs": [
    {
     "data": {
      "text/plain": [
       "Title                0\n",
       "Bedrooms            14\n",
       "Bathrooms           14\n",
       "Floor_no            13\n",
       "Occupancy_status     5\n",
       "Floor_area           5\n",
       "City                 0\n",
       "Price_in_taka        0\n",
       "Location             0\n",
       "Area                 0\n",
       "Section              0\n",
       "dtype: int64"
      ]
     },
     "execution_count": 29,
     "metadata": {},
     "output_type": "execute_result"
    }
   ],
   "source": [
    "df.isna().sum()"
   ]
  },
  {
   "cell_type": "code",
   "execution_count": 34,
   "id": "4c6c1395-376f-46f0-aba1-28b9559d08ec",
   "metadata": {},
   "outputs": [
    {
     "data": {
      "text/plain": [
       "Floor_no\n",
       "1     59\n",
       "5     59\n",
       "4     56\n",
       "3     51\n",
       "2     50\n",
       "6     50\n",
       "7     29\n",
       "8     25\n",
       "9     15\n",
       "13     2\n",
       "11     2\n",
       "Name: count, dtype: int64"
      ]
     },
     "execution_count": 34,
     "metadata": {},
     "output_type": "execute_result"
    }
   ],
   "source": [
    "df[\"Floor_no\"].value_counts()"
   ]
  },
  {
   "cell_type": "code",
   "execution_count": 32,
   "id": "02a03c68-efd6-442e-aa46-5322b554dedd",
   "metadata": {},
   "outputs": [
    {
     "data": {
      "text/html": [
       "<div>\n",
       "<style scoped>\n",
       "    .dataframe tbody tr th:only-of-type {\n",
       "        vertical-align: middle;\n",
       "    }\n",
       "\n",
       "    .dataframe tbody tr th {\n",
       "        vertical-align: top;\n",
       "    }\n",
       "\n",
       "    .dataframe thead th {\n",
       "        text-align: right;\n",
       "    }\n",
       "</style>\n",
       "<table border=\"1\" class=\"dataframe\">\n",
       "  <thead>\n",
       "    <tr style=\"text-align: right;\">\n",
       "      <th></th>\n",
       "      <th>Title</th>\n",
       "      <th>Bedrooms</th>\n",
       "      <th>Bathrooms</th>\n",
       "      <th>Floor_no</th>\n",
       "      <th>Occupancy_status</th>\n",
       "      <th>Floor_area</th>\n",
       "      <th>City</th>\n",
       "      <th>Price_in_taka</th>\n",
       "      <th>Location</th>\n",
       "      <th>Area</th>\n",
       "      <th>Section</th>\n",
       "    </tr>\n",
       "  </thead>\n",
       "  <tbody>\n",
       "    <tr>\n",
       "      <th>431</th>\n",
       "      <td>19200 SQ FT Full-Building is now for sale in M...</td>\n",
       "      <td>46.0</td>\n",
       "      <td>10.0</td>\n",
       "      <td>G+7</td>\n",
       "      <td>vacant</td>\n",
       "      <td>19200.0</td>\n",
       "      <td>dhaka</td>\n",
       "      <td>৳75,000,000</td>\n",
       "      <td>Section 1, Mirpur</td>\n",
       "      <td>mirpur</td>\n",
       "      <td>section 1</td>\n",
       "    </tr>\n",
       "  </tbody>\n",
       "</table>\n",
       "</div>"
      ],
      "text/plain": [
       "                                                 Title  Bedrooms  Bathrooms  \\\n",
       "431  19200 SQ FT Full-Building is now for sale in M...      46.0       10.0   \n",
       "\n",
       "    Floor_no Occupancy_status  Floor_area   City Price_in_taka  \\\n",
       "431      G+7           vacant     19200.0  dhaka   ৳75,000,000   \n",
       "\n",
       "              Location    Area    Section  \n",
       "431  Section 1, Mirpur  mirpur  section 1  "
      ]
     },
     "execution_count": 32,
     "metadata": {},
     "output_type": "execute_result"
    }
   ],
   "source": [
    "df[df[\"Floor_no\"]=='G+7']"
   ]
  },
  {
   "cell_type": "markdown",
   "id": "2484f174-95d4-4539-8044-a7a99073d26e",
   "metadata": {},
   "source": [
    "it is a full building that's why \"G+7\" means that it is a 8 floor building.hence replacing with 8."
   ]
  },
  {
   "cell_type": "code",
   "execution_count": 33,
   "id": "316a0678-f593-4367-bb4c-4175a32f883b",
   "metadata": {},
   "outputs": [],
   "source": [
    "df[\"Floor_no\"] = df[\"Floor_no\"].str.replace(r\"G\\+7|0\\+7\", \"8\", regex=True)"
   ]
  },
  {
   "cell_type": "markdown",
   "id": "0057676a-1f2e-437d-a618-6142066843e2",
   "metadata": {},
   "source": [
    "creating new column property type"
   ]
  },
  {
   "cell_type": "code",
   "execution_count": 35,
   "id": "0a67edf6-7e42-4af5-a8ca-1b13b1c3cdd3",
   "metadata": {},
   "outputs": [],
   "source": [
    "building_pattern = r\"building|complex|condominium|residence\"\n",
    "apartment_pattern = r\"apartment|flat|living space|apt.|duplex\"\n",
    "commercial_pattern = r\"office|shop|retail|business|commercial space|warehouse|factory|store|business center|showroom|industrial space|market|plaza|outlet|commercial\"\n",
    "house_pattern = r\"house|residential|cottage|bungalow|townhouse|family home|detached house|semi-detached house|ranch|estate|home\""
   ]
  },
  {
   "cell_type": "code",
   "execution_count": 37,
   "id": "9465b206-ac0e-417b-b38f-c2e1ad4735f9",
   "metadata": {},
   "outputs": [],
   "source": [
    "import re\n",
    "\n",
    "\n",
    "\n",
    "# Create the 'property_type' column\n",
    "df['property_type'] = 'Unknown'\n",
    "\n",
    "# Apply patterns to the 'title' column\n",
    "df.loc[df['Title'].str.contains(building_pattern, flags=re.IGNORECASE, regex=True), 'property_type'] = 'building'\n",
    "df.loc[df['Title'].str.contains(apartment_pattern, flags=re.IGNORECASE, regex=True), 'property_type'] = 'apartment'\n",
    "df.loc[df['Title'].str.contains(commercial_pattern, flags=re.IGNORECASE, regex=True), 'property_type'] = 'commercial'\n",
    "df.loc[df['Title'].str.contains(house_pattern, flags=re.IGNORECASE, regex=True), 'property_type'] = 'bungalow/townhouse'\n"
   ]
  },
  {
   "cell_type": "code",
   "execution_count": 48,
   "id": "f0ae9a1c-21db-4569-bc43-dfe691d9f0da",
   "metadata": {},
   "outputs": [
    {
     "data": {
      "text/html": [
       "<div>\n",
       "<style scoped>\n",
       "    .dataframe tbody tr th:only-of-type {\n",
       "        vertical-align: middle;\n",
       "    }\n",
       "\n",
       "    .dataframe tbody tr th {\n",
       "        vertical-align: top;\n",
       "    }\n",
       "\n",
       "    .dataframe thead th {\n",
       "        text-align: right;\n",
       "    }\n",
       "</style>\n",
       "<table border=\"1\" class=\"dataframe\">\n",
       "  <thead>\n",
       "    <tr style=\"text-align: right;\">\n",
       "      <th></th>\n",
       "      <th>Title</th>\n",
       "      <th>Bedrooms</th>\n",
       "      <th>Bathrooms</th>\n",
       "      <th>Floor_no</th>\n",
       "      <th>Occupancy_status</th>\n",
       "      <th>Floor_area</th>\n",
       "      <th>City</th>\n",
       "      <th>Price_in_taka</th>\n",
       "      <th>Location</th>\n",
       "      <th>Area</th>\n",
       "      <th>Section</th>\n",
       "      <th>property_type</th>\n",
       "    </tr>\n",
       "  </thead>\n",
       "  <tbody>\n",
       "  </tbody>\n",
       "</table>\n",
       "</div>"
      ],
      "text/plain": [
       "Empty DataFrame\n",
       "Columns: [Title, Bedrooms, Bathrooms, Floor_no, Occupancy_status, Floor_area, City, Price_in_taka, Location, Area, Section, property_type]\n",
       "Index: []"
      ]
     },
     "execution_count": 48,
     "metadata": {},
     "output_type": "execute_result"
    }
   ],
   "source": [
    "df[df['property_type']=='Unknown']"
   ]
  },
  {
   "cell_type": "markdown",
   "id": "f51befdc-984b-4a6e-974e-966d06cd3ac9",
   "metadata": {},
   "source": [
    "we can see that there are lot of land properties so we can remove those since we are only working with housing"
   ]
  },
  {
   "cell_type": "code",
   "execution_count": 44,
   "id": "1aa7f451-ac8f-473f-ba17-2abb42f414d7",
   "metadata": {},
   "outputs": [],
   "source": [
    "# prompt: remove rows where the Title contains ' Plot| plot| Katha| katha'\n",
    "\n",
    "import pandas as pd\n",
    "import re\n",
    "\n",
    "# Assuming your DataFrame is named 'df_clean'\n",
    "# Create a copy to avoid modifying the original DataFrame directly\n",
    "\n",
    "\n",
    "# Define the pattern for the strings to remove\n",
    "pattern = r\"plot| katha\"\n",
    "\n",
    "# Use boolean indexing to filter out rows where 'Title' matches the pattern\n",
    "df = df[~df['Title'].str.contains(pattern, flags=re.IGNORECASE, regex=True)]\n"
   ]
  },
  {
   "cell_type": "code",
   "execution_count": 47,
   "id": "9e3c47a1-f151-4c8b-8ee3-2a6dcd8fb421",
   "metadata": {},
   "outputs": [],
   "source": [
    "# prompt: for the rows that have 'Unknown' in the property_type column replace those with 'apartment' on property_type\n",
    "\n",
    "# Replace 'Unknown' values in 'property_type' with 'apartment'\n",
    "df.loc[df['property_type'] == 'Unknown', 'property_type'] = 'apartment'\n"
   ]
  },
  {
   "cell_type": "code",
   "execution_count": 49,
   "id": "8ee0acbe-c8f3-4a01-a5fe-f95086742d59",
   "metadata": {},
   "outputs": [
    {
     "name": "stdout",
     "output_type": "stream",
     "text": [
      "<class 'pandas.core.frame.DataFrame'>\n",
      "Index: 408 entries, 25 to 1641\n",
      "Data columns (total 12 columns):\n",
      " #   Column            Non-Null Count  Dtype  \n",
      "---  ------            --------------  -----  \n",
      " 0   Title             408 non-null    object \n",
      " 1   Bedrooms          396 non-null    float64\n",
      " 2   Bathrooms         396 non-null    float64\n",
      " 3   Floor_no          398 non-null    object \n",
      " 4   Occupancy_status  403 non-null    object \n",
      " 5   Floor_area        403 non-null    float64\n",
      " 6   City              408 non-null    object \n",
      " 7   Price_in_taka     408 non-null    object \n",
      " 8   Location          408 non-null    object \n",
      " 9   Area              408 non-null    object \n",
      " 10  Section           408 non-null    object \n",
      " 11  property_type     408 non-null    object \n",
      "dtypes: float64(3), object(9)\n",
      "memory usage: 41.4+ KB\n"
     ]
    }
   ],
   "source": [
    "df.info()"
   ]
  },
  {
   "cell_type": "markdown",
   "id": "f907b04c-1934-4ba9-9d92-b308ed28b148",
   "metadata": {},
   "source": [
    "replacing the missing bedrooms,bathrooms and Floor_no values with median values of the individual property_type."
   ]
  },
  {
   "cell_type": "code",
   "execution_count": 53,
   "id": "3b6ceb61-e493-44ef-aca7-23d56b435873",
   "metadata": {},
   "outputs": [],
   "source": [
    "df[\"Floor_no\"]=df[\"Floor_no\"].astype(float)"
   ]
  },
  {
   "cell_type": "code",
   "execution_count": 54,
   "id": "e734969a-a09d-4e20-a43b-f483961f74d8",
   "metadata": {},
   "outputs": [
    {
     "name": "stdout",
     "output_type": "stream",
     "text": [
      "Number of rows with 'building' property type and missing Bedrooms or Bathrooms: 0\n",
      "Number of rows with 'commercial' property type and missing Bedrooms or Bathrooms: 7\n",
      "Number of rows with 'apartment' property type and missing Bedrooms or Bathrooms: 3\n",
      "Number of rows with 'bungalow' property type and missing Bedrooms or Bathrooms: 2\n"
     ]
    }
   ],
   "source": [
    "# Find rows where 'property_type' is 'building' and 'Bedrooms' or 'Bathrooms' are missing.\n",
    "missing_bedrooms_bathrooms_buildings = df[\n",
    "    (df['property_type'] == 'building') &\n",
    "    (df['Bedrooms'].isna() | df['Bathrooms'].isna())\n",
    "]\n",
    "missing_bedrooms_bathrooms_apartments = df[\n",
    "    (df['property_type'] == 'apartment') &\n",
    "    (df['Bedrooms'].isna() | df['Bathrooms'].isna())\n",
    "]\n",
    "missing_bedrooms_bathrooms_commercial = df[\n",
    "    (df['property_type'] == 'commercial') &\n",
    "    (df['Bedrooms'].isna() | df['Bathrooms'].isna())\n",
    "]\n",
    "missing_bedrooms_bathrooms_bungalow = df[\n",
    "    (df['property_type'] == 'bungalow/townhouse') &\n",
    "    (df['Bedrooms'].isna() | df['Bathrooms'].isna())\n",
    "]\n",
    "\n",
    "\n",
    "num_rows_missing_building = len(missing_bedrooms_bathrooms_buildings)\n",
    "num_rows_missing_commercial = len(missing_bedrooms_bathrooms_commercial)\n",
    "num_rows_missing_apartment = len(missing_bedrooms_bathrooms_apartments)\n",
    "num_rows_missing_bungalow = len(missing_bedrooms_bathrooms_bungalow)\n",
    "print(f\"Number of rows with 'building' property type and missing Bedrooms or Bathrooms: {num_rows_missing_building}\")\n",
    "print(f\"Number of rows with 'commercial' property type and missing Bedrooms or Bathrooms: {num_rows_missing_commercial}\")\n",
    "print(f\"Number of rows with 'apartment' property type and missing Bedrooms or Bathrooms: {num_rows_missing_apartment}\")\n",
    "print(f\"Number of rows with 'bungalow' property type and missing Bedrooms or Bathrooms: {num_rows_missing_bungalow}\")\n",
    "\n"
   ]
  },
  {
   "cell_type": "code",
   "execution_count": 55,
   "id": "c9c97a89-f40b-4e6f-ad2d-0b88cf4c7475",
   "metadata": {},
   "outputs": [],
   "source": [
    "df_clean=df.copy()\n",
    "# Create dictionaries to hold median floor numbers\n",
    "median_bathroom_no = {\n",
    "    \"building\": None,\n",
    "    \"apartment\": None,\n",
    "    \"bungalow/townhouse\": None,\n",
    "    \"commercial\":None\n",
    "}\n",
    "\n",
    "# Calculate median floor_no for each property type\n",
    "for property_type in [\"building\", \"apartment\", \"bungalow/townhouse\", \"commercial\"]:\n",
    "    sub_df = df_clean[df_clean['property_type'] == property_type]\n",
    "    median_bathroom_no[property_type] = sub_df[\"Bathrooms\"].median()\n",
    "    # Create dictionaries to hold median floor numbers\n",
    "median_bedroom_no = {\n",
    "    \"building\": None,\n",
    "    \"apartment\": None,\n",
    "    \"bungalow/townhouse\": None\n",
    "}\n",
    "\n",
    "# Calculate median floor_no for each property type\n",
    "for property_type in [\"building\", \"apartment\", \"bungalow/townhouse\", \"commercial\"]:\n",
    "    sub_df = df_clean[df_clean['property_type'] == property_type]\n",
    "    median_bedroom_no[property_type] = sub_df[\"Bedrooms\"].median()\n",
    "# Create dictionaries to hold median floor numbers\n",
    "median_floor_no = {\n",
    "    \"building\": None,\n",
    "    \"apartment\": None,\n",
    "    \"bungalow/townhouse\": None,\n",
    "    \"commercial\": None\n",
    "}\n",
    "\n",
    "# Calculate median floor_no for each property type\n",
    "for property_type in [\"building\", \"apartment\", \"bungalow/townhouse\",'commercial']:\n",
    "    sub_df = df_clean[df_clean['property_type'] == property_type]\n",
    "    median_floor_no[property_type] = sub_df[\"Floor_no\"].median()\n",
    "# Fill missing 'Floor_no' based on the median for each property type\n",
    "for property_type in median_floor_no:\n",
    "    df_clean.loc[(df_clean['Floor_no'].isna()) & (df_clean['property_type'] == property_type), 'Floor_no'] = median_floor_no[property_type]\n",
    "\n",
    "# Fill missing 'Bathrooms' based on the median for each property type\n",
    "for property_type in median_bathroom_no:\n",
    "\n",
    "    df_clean.loc[(df_clean['Bathrooms'].isna()) & (df_clean['property_type'] == property_type), 'Bathrooms'] = median_bathroom_no[property_type]\n",
    "\n",
    "# Fill missing 'Bedrooms' based on the median for each property type\n",
    "for property_type in median_bedroom_no:\n",
    "    df_clean.loc[(df_clean['Bedrooms'].isna()) & (df_clean['property_type'] == property_type), 'Bedrooms'] = median_bedroom_no[property_type]\n",
    "\n"
   ]
  },
  {
   "cell_type": "markdown",
   "id": "1c43c321-d4ee-4d1b-9676-dbad279f51af",
   "metadata": {},
   "source": [
    "taking the missing Floor_area from title"
   ]
  },
  {
   "cell_type": "code",
   "execution_count": 57,
   "id": "603c2777-0aff-4f7e-9642-6c3079b98519",
   "metadata": {},
   "outputs": [],
   "source": [
    "df_copy=df_clean.copy()\n",
    "import re\n",
    "\n",
    "def extract_floor_area(title):\n",
    "  \"\"\"\n",
    "  Extracts floor area from a title string.\n",
    "\n",
    "  Args:\n",
    "    title: The title string to search.\n",
    "\n",
    "  Returns:\n",
    "    The extracted floor area as a float, or None if not found.\n",
    "  \"\"\"\n",
    "  match = re.search(r\"(\\d+)\\s*sq\", title.lower())\n",
    "  if match:\n",
    "    return float(match.group(1))\n",
    "  return None\n",
    "\n",
    "\n",
    "# Example usage (assuming df_clean is your DataFrame)\n",
    "\n",
    "df_copy.loc[df_copy['Floor_area'].isna(), 'Floor_area'] = df_copy.loc[df_copy['Floor_area'].isna(), 'Title'].apply(extract_floor_area)\n",
    "  #df_copy.loc[i, 'Floor_area'] = extract_floor_area(df_copy.loc[i, 'Title'])\n",
    "#df_clean['extracted_floor_area'] = df_clean['Title'].apply(extract_floor_area)\n",
    "\n",
    "# Now you can use the 'extracted_floor_area' column to fill missing values in 'Floor_area'\n",
    "# Example: Fill missing values in 'Floor_area' with values from 'extracted_floor_area'\n",
    "\n"
   ]
  },
  {
   "cell_type": "markdown",
   "id": "9c589394-e4e3-4330-a1ef-8864e42833de",
   "metadata": {},
   "source": [
    "filling the missing Occupancy_status to vacant"
   ]
  },
  {
   "cell_type": "code",
   "execution_count": 59,
   "id": "553e541f-41c0-4b90-a609-ac9a479da0f0",
   "metadata": {},
   "outputs": [],
   "source": [
    "df_copy.loc[df_copy['Occupancy_status'].isna(),'Occupancy_status']='vacant'"
   ]
  },
  {
   "cell_type": "code",
   "execution_count": 61,
   "id": "a482d817-7b8b-40a7-ad46-c1d67a86de60",
   "metadata": {},
   "outputs": [
    {
     "data": {
      "text/plain": [
       "Title               0\n",
       "Bedrooms            0\n",
       "Bathrooms           0\n",
       "Floor_no            0\n",
       "Occupancy_status    0\n",
       "Floor_area          0\n",
       "City                0\n",
       "Price_in_taka       0\n",
       "Location            0\n",
       "Area                0\n",
       "Section             0\n",
       "property_type       0\n",
       "dtype: int64"
      ]
     },
     "execution_count": 61,
     "metadata": {},
     "output_type": "execute_result"
    }
   ],
   "source": [
    "df_copy.isna().sum()"
   ]
  },
  {
   "cell_type": "markdown",
   "id": "ec554f6d-f60d-479c-9822-4e4149283a89",
   "metadata": {},
   "source": [
    "our dataset is ready! But we have to convert Price_in_taka to float"
   ]
  },
  {
   "cell_type": "code",
   "execution_count": 64,
   "id": "a189521b-4191-4ac7-b286-a403fa290bb7",
   "metadata": {},
   "outputs": [],
   "source": [
    "df_copy['Price_in_taka']=df_copy['Price_in_taka'].replace({'\\৳': '', ',': ''}, regex=True).astype(float)"
   ]
  },
  {
   "cell_type": "code",
   "execution_count": 65,
   "id": "a16692f7-46d5-4cba-a4bc-db4259f28e92",
   "metadata": {},
   "outputs": [
    {
     "name": "stdout",
     "output_type": "stream",
     "text": [
      "<class 'pandas.core.frame.DataFrame'>\n",
      "Index: 408 entries, 25 to 1641\n",
      "Data columns (total 12 columns):\n",
      " #   Column            Non-Null Count  Dtype  \n",
      "---  ------            --------------  -----  \n",
      " 0   Title             408 non-null    object \n",
      " 1   Bedrooms          408 non-null    float64\n",
      " 2   Bathrooms         408 non-null    float64\n",
      " 3   Floor_no          408 non-null    float64\n",
      " 4   Occupancy_status  408 non-null    object \n",
      " 5   Floor_area        408 non-null    float64\n",
      " 6   City              408 non-null    object \n",
      " 7   Price_in_taka     408 non-null    float64\n",
      " 8   Location          408 non-null    object \n",
      " 9   Area              408 non-null    object \n",
      " 10  Section           408 non-null    object \n",
      " 11  property_type     408 non-null    object \n",
      "dtypes: float64(5), object(7)\n",
      "memory usage: 41.4+ KB\n"
     ]
    }
   ],
   "source": [
    "df_copy.info()"
   ]
  },
  {
   "cell_type": "code",
   "execution_count": 66,
   "id": "2f7308ee-dddf-40da-b601-f591f3826bc5",
   "metadata": {},
   "outputs": [],
   "source": [
    "df_copy.to_csv(\"housing_cleaned.csv\",index=False)"
   ]
  },
  {
   "cell_type": "markdown",
   "id": "3d35ebee-8af8-4c1e-8010-20beea821c0c",
   "metadata": {},
   "source": []
  },
  {
   "cell_type": "code",
   "execution_count": null,
   "id": "c0687022-f7e3-4f76-89cc-e1a460721800",
   "metadata": {},
   "outputs": [],
   "source": []
  }
 ],
 "metadata": {
  "kernelspec": {
   "display_name": "Python 3 (ipykernel)",
   "language": "python",
   "name": "python3"
  },
  "language_info": {
   "codemirror_mode": {
    "name": "ipython",
    "version": 3
   },
   "file_extension": ".py",
   "mimetype": "text/x-python",
   "name": "python",
   "nbconvert_exporter": "python",
   "pygments_lexer": "ipython3",
   "version": "3.12.7"
  }
 },
 "nbformat": 4,
 "nbformat_minor": 5
}
